{
 "cells": [
  {
   "cell_type": "markdown",
   "id": "a8a0d8fc-08ff-4bd6-ae89-5dd2f10bea50",
   "metadata": {},
   "source": [
    "# parse_logfile\n",
    "\n",
    "This dict is the result of serialising (then cleaning) a logfile which is dumped when the assertion on line ~700 fails:\n",
    "```\n",
    "assert target.name not in self.converter._function_definitions, target.name\n",
    "```\n",
    "\n",
    "Look at this dict, parse how the three relevant objects are filled (really two are objects, one is a call history)"
   ]
  },
  {
   "cell_type": "code",
   "execution_count": null,
   "id": "78250a2f-936d-4926-95bd-cb9da8bd4618",
   "metadata": {},
   "outputs": [],
   "source": [
    "import json\n",
    "\n",
    "\n",
    "from typed_python import SerializationContext"
   ]
  },
  {
   "cell_type": "code",
   "execution_count": null,
   "id": "fd766a37-89b3-4e24-8725-c726fe3c3768",
   "metadata": {},
   "outputs": [],
   "source": [
    "SERIALIZED_INPUT = '/home/wgrant/Dev/typed_python/demos/python_s_slow_u_slice_u_3/logfile_20221019.bytes'\n",
    "# SERIALIZED_INPUT = '/home/wgrant/Dev/typed_python/demos/logfile.bytes'"
   ]
  },
  {
   "cell_type": "code",
   "execution_count": null,
   "id": "71b3a953-c64d-4cfb-a802-1df1ffb19caa",
   "metadata": {},
   "outputs": [],
   "source": [
    "with open(SERIALIZED_INPUT, 'rb') as flines:\n",
    "    input_data = SerializationContext().deserialize(flines.read())"
   ]
  },
  {
   "cell_type": "code",
   "execution_count": null,
   "id": "c658d6c8-64d1-4496-84a5-0cb28e57cfae",
   "metadata": {},
   "outputs": [],
   "source": [
    "# PATH_TO_INPUT = '/home/wgrant/Dev/typed_python/demos/failure_dict.json'\n",
    "# with open(PATH_TO_INPUT) as flines:\n",
    "#     input_data = json.load(flines)"
   ]
  },
  {
   "cell_type": "code",
   "execution_count": null,
   "id": "09993588-10e6-4754-804c-9fb409216525",
   "metadata": {},
   "outputs": [],
   "source": [
    "for key, value in input_data.items():\n",
    "    print(key, len(value))"
   ]
  },
  {
   "cell_type": "code",
   "execution_count": null,
   "id": "deb6cfbe-93a5-4d3f-962f-0ffb6e0555c6",
   "metadata": {},
   "outputs": [],
   "source": [
    "import pandas as pd "
   ]
  },
  {
   "cell_type": "code",
   "execution_count": null,
   "id": "35900700-3eeb-488c-bb80-31d5530a2f52",
   "metadata": {},
   "outputs": [],
   "source": [
    "pd.set_option('display.max_rows', 2000)"
   ]
  },
  {
   "cell_type": "markdown",
   "id": "b2a197d2-78bc-4735-8bbe-aaa993f9e50b",
   "metadata": {},
   "source": [
    "## History"
   ]
  },
  {
   "cell_type": "code",
   "execution_count": null,
   "id": "02c11860-e4fe-4183-b719-0b14cbc7a265",
   "metadata": {},
   "outputs": [],
   "source": [
    "def parse_dict_to_dataframe(input_dict: dict) -> pd.DataFrame:\n",
    "    input_data_squared = []\n",
    "    for key, value in input_dict.items():\n",
    "        for x in value:\n",
    "            try:\n",
    "                timestamp, thread, data = x\n",
    "            except TypeError:\n",
    "                timestamp, thread, data = x, None\n",
    "            input_data_squared.append((pd.to_datetime(timestamp, unit='s'), thread, key, data))\n",
    "    input_df = pd.DataFrame(input_data_squared, columns=['timestamp', 'thread', 'key', 'data']).sort_values(by='timestamp').reset_index(drop=True)\n",
    "    \n",
    "    # extract the callTarget data\n",
    "    callTarget_data = pd.json_normalize(input_df.query('key==\"namedCallTargetToLLVM\"').data).set_index(input_df.query('key==\"namedCallTargetToLLVM\"').index)\n",
    "    callTarget_data.columns = ['name', 'namedCallTargetToLLVM.external']\n",
    "    parsed_df = pd.merge(input_df, callTarget_data, how='left', left_index=True, right_index=True)\n",
    "    parsed_df.loc[parsed_df.key==\"namedCallTargetToLLVM\", 'data'] = None\n",
    "    # set the name field as data for function_definitions\n",
    "    parsed_df.loc[parsed_df.key==\"function_definitions\", 'name'] = parsed_df.loc[parsed_df.key==\"function_definitions\", :].data  \n",
    "    parsed_df.loc[parsed_df.key==\"external_function_references\", 'name'] = parsed_df.loc[parsed_df.key==\"external_function_references\", :].data  \n",
    "    # blow up the externallyDefinedFunctionTypes\n",
    "    parsed_df = parsed_df.explode('data')\n",
    "    parsed_df.loc[parsed_df.key==\"externallyDefinedFunctionTypes\", 'name'] = parsed_df.loc[parsed_df.key==\"externallyDefinedFunctionTypes\", :].data\n",
    "    # grab entryPoint names\n",
    "    parsed_df.loc[parsed_df.key==\"entryPoint\", 'name'] = input_df.loc[input_df.key=='entryPoint', 'data'].apply(lambda x: x['name'])\n",
    "    \n",
    "    parsed_df = parsed_df.drop(columns=['data']).reset_index(drop=True)\n",
    "    return parsed_df, input_df"
   ]
  },
  {
   "cell_type": "code",
   "execution_count": null,
   "id": "4b050813-d3be-4e5d-b27e-da689de0c1d2",
   "metadata": {},
   "outputs": [],
   "source": [
    "df, input_df = parse_dict_to_dataframe(input_data['history'])"
   ]
  },
  {
   "cell_type": "code",
   "execution_count": null,
   "id": "904f5a87-4d1e-4e8a-8c8f-2bf0d1c2f917",
   "metadata": {},
   "outputs": [],
   "source": [
    "import numpy as np"
   ]
  },
  {
   "cell_type": "code",
   "execution_count": null,
   "id": "90eeabef-66d8-4972-ae9d-f762c9cc83d8",
   "metadata": {},
   "outputs": [],
   "source": []
  },
  {
   "cell_type": "code",
   "execution_count": null,
   "id": "5871e96b-a939-4725-866e-fccfeef5a83f",
   "metadata": {},
   "outputs": [],
   "source": [
    "def bold(row):\n",
    "    if not pd.isnull(row['name']) and 'decref_str' in row['name']:\n",
    "        return ['background-color: #1b9e77'] * len(row)\n",
    "    elif row['name'] == 'CLEAR':\n",
    "        return ['background-color: #d95f02'] * len(row)\n",
    "        \n",
    "    else:\n",
    "        return [None] * len(row)"
   ]
  },
  {
   "cell_type": "code",
   "execution_count": null,
   "id": "a4615749-9f9a-474a-8e7e-e1a60580212f",
   "metadata": {
    "tags": []
   },
   "outputs": [],
   "source": [
    "df.style.apply(bold, axis=1)"
   ]
  },
  {
   "cell_type": "code",
   "execution_count": null,
   "id": "a99b34be-3386-43f0-957c-278b6153c038",
   "metadata": {
    "tags": []
   },
   "outputs": [],
   "source": [
    "df[df.name.notnull() & df.name.str.contains('decref_str')]"
   ]
  },
  {
   "cell_type": "code",
   "execution_count": null,
   "id": "53ffe383-ace8-4a3e-b946-f0ca9eee6aea",
   "metadata": {},
   "outputs": [],
   "source": [
    "repeated_names = df[df.key.isin(['function_definitions', 'externallyDefinedFunctionTypes'])].name.value_counts()"
   ]
  },
  {
   "cell_type": "code",
   "execution_count": null,
   "id": "025670b6-2f9d-4185-9905-f336f80bfaec",
   "metadata": {},
   "outputs": [],
   "source": [
    "repeated_names = repeated_names[repeated_names > 1].index"
   ]
  },
  {
   "cell_type": "code",
   "execution_count": null,
   "id": "c5921386-b7ec-441c-a157-a301ae8498c3",
   "metadata": {},
   "outputs": [],
   "source": [
    "repeated_names"
   ]
  },
  {
   "cell_type": "code",
   "execution_count": null,
   "id": "c6b31dac-c31a-4f78-9a98-7c8cbd3973de",
   "metadata": {
    "tags": []
   },
   "outputs": [],
   "source": [
    "df[df.name.isin(repeated_names)]"
   ]
  },
  {
   "cell_type": "markdown",
   "id": "3bb8b827-be9c-458a-ab09-e06275ad135f",
   "metadata": {},
   "source": [
    "## End State"
   ]
  },
  {
   "cell_type": "code",
   "execution_count": null,
   "id": "08b565b3-7572-437e-bac6-c5dfc8da3dec",
   "metadata": {},
   "outputs": [],
   "source": [
    "def parse_dict_to_end_state_dataframe(input_dict): \n",
    "    protodf = []\n",
    "    for key, value in input_dict['end_state'].items():\n",
    "        if key == 'namedCallTargetToLLVM':\n",
    "            continue\n",
    "        timestamp, thread, function_names = value\n",
    "        for name in function_names:\n",
    "            protodf.append((pd.to_datetime(timestamp, unit='s'), thread, key, name))\n",
    "    end_state = pd.DataFrame(protodf, columns=['timestamp', 'thread', 'key', 'name']).sort_values(by=['key', 'name'])\n",
    "    return end_state"
   ]
  },
  {
   "cell_type": "code",
   "execution_count": null,
   "id": "dd2356bc-a3d8-4f93-a31e-0f180d8e378b",
   "metadata": {
    "tags": []
   },
   "outputs": [],
   "source": [
    "parse_dict_to_end_state_dataframe(input_data).style.apply(bold,axis=1) "
   ]
  },
  {
   "cell_type": "code",
   "execution_count": null,
   "id": "9fdc541f-851c-4746-ae50-ad0f84b1cca8",
   "metadata": {},
   "outputs": [],
   "source": [
    "input_data['end_state']['namedCallTargetToLLVM']"
   ]
  },
  {
   "cell_type": "markdown",
   "id": "caf92913-bd75-4576-9e44-58c95bc3018a",
   "metadata": {},
   "source": [
    "## Compiler Stuff"
   ]
  },
  {
   "cell_type": "code",
   "execution_count": null,
   "id": "6ac5f070-435d-4e2e-b17e-aad303231dfb",
   "metadata": {},
   "outputs": [],
   "source": [
    "for key, value in input_data.items():\n",
    "    print(key, len(value))"
   ]
  },
  {
   "cell_type": "code",
   "execution_count": null,
   "id": "eef65d8a-c422-4469-88e1-8ac5f84acced",
   "metadata": {},
   "outputs": [],
   "source": [
    "def parse_dict_to_compiler_cache_dataframe(input_dict): \n",
    "    protodf = []\n",
    "    for key, value in input_dict['compiler_cache'].items():\n",
    "        for timestamp, thread, function_name in value:\n",
    "            protodf.append((pd.to_datetime(timestamp, unit='s'), thread, key, function_name))\n",
    "    compiler_cache = pd.DataFrame(protodf, columns=['timestamp', 'thread', 'key', 'name']).sort_values(by='timestamp')\n",
    "    return compiler_cache"
   ]
  },
  {
   "cell_type": "code",
   "execution_count": null,
   "id": "387736eb-0275-42b5-b653-aafb4167d13e",
   "metadata": {
    "tags": []
   },
   "outputs": [],
   "source": [
    "compiler_df =parse_dict_to_compiler_cache_dataframe(input_data)"
   ]
  },
  {
   "cell_type": "code",
   "execution_count": null,
   "id": "b56a0a68-9587-445d-9b91-b75ad7d1efeb",
   "metadata": {},
   "outputs": [],
   "source": [
    "compiler_df[compiler_df.name.str.contains('decref_str')]"
   ]
  },
  {
   "cell_type": "code",
   "execution_count": null,
   "id": "243d066f-8452-47c3-9029-44f2a683d5f4",
   "metadata": {
    "tags": []
   },
   "outputs": [],
   "source": [
    "compiler_df.style.apply(bold,axis=1)"
   ]
  },
  {
   "cell_type": "markdown",
   "id": "3c8eb984-4236-4716-a12f-d671388f5d84",
   "metadata": {},
   "source": [
    "## Bug Test - \n"
   ]
  },
  {
   "cell_type": "code",
   "execution_count": null,
   "id": "94f293f1-9563-4741-896e-1c1de7361874",
   "metadata": {},
   "outputs": [],
   "source": [
    "def parse_dict_to_bug_test_dataframe(input_dict): \n",
    "    protodf = []\n",
    "    for timestamp, thread, value in input_dict['bug_test']:\n",
    "        for key, vals in value.items():\n",
    "            for function_name in vals:\n",
    "                protodf.append((pd.to_datetime(timestamp, unit='s'), thread, key, function_name))\n",
    "    bug_test = pd.DataFrame(protodf, columns=['timestamp', 'thread', 'key', 'name']).sort_values(by=['timestamp', 'key']).reset_index(drop=True)\n",
    "    return bug_test"
   ]
  },
  {
   "cell_type": "code",
   "execution_count": null,
   "id": "86a3f57b-4579-4746-a0bc-738225a38eea",
   "metadata": {
    "tags": []
   },
   "outputs": [],
   "source": [
    "bug_test_df = parse_dict_to_bug_test_dataframe(input_data)"
   ]
  },
  {
   "cell_type": "code",
   "execution_count": null,
   "id": "8a3023b0-dce4-4eab-b05f-b11c46afb82f",
   "metadata": {},
   "outputs": [],
   "source": [
    "\n",
    "bug_test_df[bug_test_df.name.str.contains('decref_str')]"
   ]
  },
  {
   "cell_type": "code",
   "execution_count": null,
   "id": "fcc7040a-276e-4196-ae97-57e0469f17a4",
   "metadata": {
    "tags": []
   },
   "outputs": [],
   "source": [
    "bug_test_df.style.apply(bold, axis=1)"
   ]
  },
  {
   "cell_type": "code",
   "execution_count": null,
   "id": "bd808620-d994-4246-bead-bb4747a65b43",
   "metadata": {},
   "outputs": [],
   "source": [
    "rows = []\n",
    "for index, row in bug_test_df.query('key==\"markExternal\"').iterrows():\n",
    "    name = row['name']\n",
    "    preceding_rows = bug_test_df.iloc[:index].query('name==@name and key==\"definedNames\"')\n",
    "    if len(preceding_rows):   \n",
    "        # rows.append(pd.concat([preceding_rows, row]))\n",
    "        rows.append(preceding_rows.append(row))"
   ]
  },
  {
   "cell_type": "code",
   "execution_count": null,
   "id": "4555ce1b-43cd-4f6b-ace8-223c5a9b547b",
   "metadata": {},
   "outputs": [],
   "source": [
    "defined_then_loaded = pd.concat(rows)"
   ]
  },
  {
   "cell_type": "code",
   "execution_count": null,
   "id": "bb4252a8-8cc7-40d6-bb6b-310b90434ac6",
   "metadata": {},
   "outputs": [],
   "source": [
    "defined_then_loaded"
   ]
  },
  {
   "cell_type": "code",
   "execution_count": null,
   "id": "9bbce5fe-2b1d-4cad-90ca-3a4b79f5b160",
   "metadata": {},
   "outputs": [],
   "source": [
    "defined_then_loaded_names = defined_then_loaded['name'].unique() "
   ]
  },
  {
   "cell_type": "code",
   "execution_count": null,
   "id": "ae4f4674-dc72-4c83-aa8d-7b7288f54ffe",
   "metadata": {},
   "outputs": [],
   "source": [
    "print(\"\\n\".join(sorted(defined_then_loaded['name'].unique())))"
   ]
  },
  {
   "cell_type": "code",
   "execution_count": null,
   "id": "60e74be8-8dd3-46e2-9e00-07957734e91a",
   "metadata": {},
   "outputs": [],
   "source": [
    "print(\"\\n\".join(sorted(repeated_names)))"
   ]
  },
  {
   "cell_type": "code",
   "execution_count": null,
   "id": "762dbe36-5da6-4cd2-90d2-4e69c644304d",
   "metadata": {
    "tags": []
   },
   "outputs": [],
   "source": [
    "defined_then_loaded"
   ]
  },
  {
   "cell_type": "code",
   "execution_count": null,
   "id": "dee3a792-514a-48b8-8938-cd27c3c17487",
   "metadata": {
    "tags": []
   },
   "outputs": [],
   "source": [
    "merged[merged.name.isin(defined_then_loaded['name'].unique())].style"
   ]
  },
  {
   "cell_type": "code",
   "execution_count": null,
   "id": "118a9efe-8bcc-4534-8183-26ebefc2479e",
   "metadata": {},
   "outputs": [],
   "source": [
    "repeated_names"
   ]
  },
  {
   "cell_type": "code",
   "execution_count": null,
   "id": "25b6f244-bd42-4caa-b57c-9b134edae9b9",
   "metadata": {
    "tags": []
   },
   "outputs": [],
   "source": [
    "bug_test_df"
   ]
  },
  {
   "cell_type": "markdown",
   "id": "d6b299be-b4cd-4ee3-a717-96ae3f1fd649",
   "metadata": {},
   "source": [
    "## Combo"
   ]
  },
  {
   "cell_type": "code",
   "execution_count": null,
   "id": "ac4eb4e4-b3a6-42c6-a386-4c37008d9ad2",
   "metadata": {},
   "outputs": [],
   "source": [
    "history_df = df.drop(columns='namedCallTargetToLLVM.external')"
   ]
  },
  {
   "cell_type": "code",
   "execution_count": null,
   "id": "fb2e6096-c721-41f9-bae5-1ddfe1bd19d5",
   "metadata": {},
   "outputs": [],
   "source": [
    "history_df.shape"
   ]
  },
  {
   "cell_type": "code",
   "execution_count": null,
   "id": "5ac955fc-ab0e-422a-81b9-27534f884538",
   "metadata": {},
   "outputs": [],
   "source": [
    "compiler_df.shape"
   ]
  },
  {
   "cell_type": "code",
   "execution_count": null,
   "id": "1f6d61fc-eae4-4437-a913-0c0687928357",
   "metadata": {},
   "outputs": [],
   "source": [
    "merged = pd.concat([history_df, compiler_df]).sort_values(by=['timestamp', 'key', 'name'])"
   ]
  },
  {
   "cell_type": "code",
   "execution_count": null,
   "id": "81fefb73-3c78-49b7-a87c-1ce6899d7036",
   "metadata": {},
   "outputs": [],
   "source": [
    "merged[merged.name.str.contains('decref_str')]"
   ]
  },
  {
   "cell_type": "code",
   "execution_count": null,
   "id": "6d207eae-f439-4e9c-a1b1-fb7da8563f02",
   "metadata": {},
   "outputs": [],
   "source": [
    "df[df['namedCallTargetToLLVM.external'] == False]"
   ]
  },
  {
   "cell_type": "code",
   "execution_count": null,
   "id": "2b480887-9c3c-4d46-9270-275880f7de35",
   "metadata": {},
   "outputs": [],
   "source": [
    "# check end_state to debug how on earth NCT2LLVM got called thrice"
   ]
  },
  {
   "cell_type": "code",
   "execution_count": null,
   "id": "49759324-1906-4d96-a469-2d94984a0ee0",
   "metadata": {
    "tags": []
   },
   "outputs": [],
   "source": [
    "df.iloc[-100:]"
   ]
  },
  {
   "cell_type": "code",
   "execution_count": null,
   "id": "63dd4466-f7f6-4bbc-814d-5e056dc729ef",
   "metadata": {},
   "outputs": [],
   "source": [
    "end_state_df = parse_dict_to_end_state_dataframe(input_data)"
   ]
  },
  {
   "cell_type": "code",
   "execution_count": null,
   "id": "1ae60cbc-718b-4c81-83d0-4d81635db474",
   "metadata": {},
   "outputs": [],
   "source": [
    "end_state_df[end_state_df.name.str.contains('checkSetSizeAndThrow')]"
   ]
  },
  {
   "cell_type": "code",
   "execution_count": null,
   "id": "73bc047f-90f7-49b6-9aee-f77d618a7013",
   "metadata": {
    "tags": []
   },
   "outputs": [],
   "source": [
    "end_state_df.query(\"key=='function_definitions'\")"
   ]
  },
  {
   "cell_type": "markdown",
   "id": "d25c1622-30ba-4d03-a5fc-e19c4fa6ea3c",
   "metadata": {
    "jp-MarkdownHeadingCollapsed": true,
    "tags": []
   },
   "source": [
    "So what happened:\n",
    "-  defineLinkName called with RDS - added to `_allDefinedNames_` and then loadFromCompilerCache hit. symbol found in the cache but either callTargetsAndTypes was None, or newNativeFunctionTypes is empty.\n",
    "- then RDS added to function_definitions.\n",
    "- call NCT2LLVM a bunch of times. \n",
    "- then load RDS again, as a result of loadFromCompilerCaching a different function **which function**. RDS gets in EDFTs, ADS, ACS\n",
    "- then three more NCT2LLVM hits, and only the third breaks?"
   ]
  },
  {
   "cell_type": "code",
   "execution_count": null,
   "id": "a0ea99ca-e340-436b-b00c-516594ccdc5d",
   "metadata": {},
   "outputs": [],
   "source": [
    "merged.loc[1048]"
   ]
  },
  {
   "cell_type": "code",
   "execution_count": null,
   "id": "9d298451-fd0e-42fc-b3c9-7da94c87dee3",
   "metadata": {},
   "outputs": [],
   "source": [
    "merged.index.get_loc(1048)"
   ]
  },
  {
   "cell_type": "code",
   "execution_count": null,
   "id": "99ea8054-90f4-42d2-8566-a182b1578c73",
   "metadata": {
    "tags": []
   },
   "outputs": [],
   "source": [
    "merged[600:792]"
   ]
  },
  {
   "cell_type": "code",
   "execution_count": null,
   "id": "9f1f989c-81fc-494c-960e-f92787eba724",
   "metadata": {
    "tags": []
   },
   "outputs": [],
   "source": [
    "merged[791:1000]"
   ]
  },
  {
   "cell_type": "code",
   "execution_count": null,
   "id": "e2f4fed6-ad79-46f4-86fe-fcbaf10aa72f",
   "metadata": {},
   "outputs": [],
   "source": []
  }
 ],
 "metadata": {
  "kernelspec": {
   "display_name": "Python [conda env:py3_10] *",
   "language": "python",
   "name": "conda-env-py3_10-py"
  },
  "language_info": {
   "codemirror_mode": {
    "name": "ipython",
    "version": 3
   },
   "file_extension": ".py",
   "mimetype": "text/x-python",
   "name": "python",
   "nbconvert_exporter": "python",
   "pygments_lexer": "ipython3",
   "version": "3.10.4"
  }
 },
 "nbformat": 4,
 "nbformat_minor": 5
}
